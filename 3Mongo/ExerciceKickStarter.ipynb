{
 "cells": [
  {
   "cell_type": "markdown",
   "metadata": {},
   "source": [
    "#  Consignes\n",
    "\n",
    "## Description\n",
    "\n",
    "Ouvrir le fichier ks-projects-201801.csv, il recense environ 100 000 projets KickStarter. Intégrer les données directement avec L'API Python dans une base de données Mongo. \n",
    "\n",
    "Il conviendra de bien spécifier manuellement l'ID du document. Pensez aussi à bien formatter le type des données pour profiter des méthodes implémentées par Mongo. L'ensemble de données n'est pas forcément nécessaire, c'est à vous de créer votre modèle de données.\n",
    "\n",
    "## Questions\n",
    "\n",
    "- 1) Récupérer les 5 projets ayant reçu le plus de promesse de dons.\n",
    "- 2) Compter le nombre de projets ayant atteint leur but.\n",
    "- 3) Compter le nombre de projets pour chaque catégorie.\n",
    "- 4) Compter le nombre de projets français ayant été instanciés avant 2016.\n",
    "- 5) Récupérer les projets américains ayant demandé plus de 200 000 dollars.\n",
    "- 6) Compter le nombre de projet ayant \"Sport\" dans leur nom"
   ]
  },
  {
   "cell_type": "code",
   "execution_count": 2,
   "metadata": {},
   "outputs": [],
   "source": [
    "import pandas as pd\n",
    "import pymongo\n",
    "import datetime"
   ]
  },
  {
   "cell_type": "code",
   "execution_count": 3,
   "metadata": {},
   "outputs": [],
   "source": [
    "client = pymongo.MongoClient()\n",
    "database = client['exercices']\n",
    "collection = database['kickstarter']"
   ]
  },
  {
   "cell_type": "code",
   "execution_count": 4,
   "metadata": {},
   "outputs": [
    {
     "name": "stderr",
     "output_type": "stream",
     "text": [
      "/root/.local/share/virtualenvs/code-AFz48Hjb/lib/python3.6/site-packages/IPython/core/interactiveshell.py:3072: DtypeWarning: Columns (6,8,10,12) have mixed types. Specify dtype option on import or set low_memory=False.\n",
      "  interactivity=interactivity, compiler=compiler, result=result)\n"
     ]
    },
    {
     "data": {
      "text/html": [
       "<div>\n",
       "<style>\n",
       "    .dataframe thead tr:only-child th {\n",
       "        text-align: right;\n",
       "    }\n",
       "\n",
       "    .dataframe thead th {\n",
       "        text-align: left;\n",
       "    }\n",
       "\n",
       "    .dataframe tbody tr th {\n",
       "        vertical-align: top;\n",
       "    }\n",
       "</style>\n",
       "<table border=\"1\" class=\"dataframe\">\n",
       "  <thead>\n",
       "    <tr style=\"text-align: right;\">\n",
       "      <th></th>\n",
       "      <th>ID</th>\n",
       "      <th>name</th>\n",
       "      <th>category</th>\n",
       "      <th>main_category</th>\n",
       "      <th>currency</th>\n",
       "      <th>deadline</th>\n",
       "      <th>goal</th>\n",
       "      <th>launched</th>\n",
       "      <th>pledged</th>\n",
       "      <th>state</th>\n",
       "      <th>backers</th>\n",
       "      <th>country</th>\n",
       "      <th>usd pledged</th>\n",
       "      <th>usd_pledged_real</th>\n",
       "    </tr>\n",
       "  </thead>\n",
       "  <tbody>\n",
       "    <tr>\n",
       "      <th>0</th>\n",
       "      <td>872782264</td>\n",
       "      <td>Scott Cooper's Solo CD \"A Leg Trick\" (Canceled)</td>\n",
       "      <td>Rock</td>\n",
       "      <td>Music</td>\n",
       "      <td>USD</td>\n",
       "      <td>2011-09-16</td>\n",
       "      <td>2000</td>\n",
       "      <td>2011-08-17 06:31:31</td>\n",
       "      <td>1145</td>\n",
       "      <td>canceled</td>\n",
       "      <td>24</td>\n",
       "      <td>US</td>\n",
       "      <td>1145</td>\n",
       "      <td>1145.000000</td>\n",
       "    </tr>\n",
       "    <tr>\n",
       "      <th>1</th>\n",
       "      <td>1326492673</td>\n",
       "      <td>Ohceola jewelry</td>\n",
       "      <td>Fashion</td>\n",
       "      <td>Fashion</td>\n",
       "      <td>USD</td>\n",
       "      <td>2012-08-22</td>\n",
       "      <td>18000</td>\n",
       "      <td>2012-07-23 20:46:48</td>\n",
       "      <td>1851</td>\n",
       "      <td>failed</td>\n",
       "      <td>28</td>\n",
       "      <td>US</td>\n",
       "      <td>1851</td>\n",
       "      <td>1851.000000</td>\n",
       "    </tr>\n",
       "    <tr>\n",
       "      <th>2</th>\n",
       "      <td>1688410639</td>\n",
       "      <td>Sluff Off &amp; Harald: Two latest EGGs are Classi...</td>\n",
       "      <td>Tabletop Games</td>\n",
       "      <td>Games</td>\n",
       "      <td>USD</td>\n",
       "      <td>2016-07-19</td>\n",
       "      <td>2000</td>\n",
       "      <td>2016-07-01 21:55:54</td>\n",
       "      <td>7534</td>\n",
       "      <td>successful</td>\n",
       "      <td>254</td>\n",
       "      <td>US</td>\n",
       "      <td>3796</td>\n",
       "      <td>7534.000000</td>\n",
       "    </tr>\n",
       "    <tr>\n",
       "      <th>3</th>\n",
       "      <td>156812982</td>\n",
       "      <td>SketchPlanner: Create and Plan- all in one bea...</td>\n",
       "      <td>Art Books</td>\n",
       "      <td>Publishing</td>\n",
       "      <td>USD</td>\n",
       "      <td>2017-09-27</td>\n",
       "      <td>13000</td>\n",
       "      <td>2017-08-28 15:47:02</td>\n",
       "      <td>16298</td>\n",
       "      <td>successful</td>\n",
       "      <td>367</td>\n",
       "      <td>US</td>\n",
       "      <td>2670</td>\n",
       "      <td>16298.000000</td>\n",
       "    </tr>\n",
       "    <tr>\n",
       "      <th>4</th>\n",
       "      <td>1835968190</td>\n",
       "      <td>Proven sales with custom motorcycle accessories</td>\n",
       "      <td>Sculpture</td>\n",
       "      <td>Art</td>\n",
       "      <td>CAD</td>\n",
       "      <td>2016-02-24</td>\n",
       "      <td>5000</td>\n",
       "      <td>2016-01-25 17:37:10</td>\n",
       "      <td>1</td>\n",
       "      <td>failed</td>\n",
       "      <td>1</td>\n",
       "      <td>CA</td>\n",
       "      <td>0.708148</td>\n",
       "      <td>0.738225</td>\n",
       "    </tr>\n",
       "  </tbody>\n",
       "</table>\n",
       "</div>"
      ],
      "text/plain": [
       "           ID                                               name  \\\n",
       "0   872782264    Scott Cooper's Solo CD \"A Leg Trick\" (Canceled)   \n",
       "1  1326492673                                    Ohceola jewelry   \n",
       "2  1688410639  Sluff Off & Harald: Two latest EGGs are Classi...   \n",
       "3   156812982  SketchPlanner: Create and Plan- all in one bea...   \n",
       "4  1835968190    Proven sales with custom motorcycle accessories   \n",
       "\n",
       "         category main_category currency    deadline   goal  \\\n",
       "0            Rock         Music      USD  2011-09-16   2000   \n",
       "1         Fashion       Fashion      USD  2012-08-22  18000   \n",
       "2  Tabletop Games         Games      USD  2016-07-19   2000   \n",
       "3       Art Books    Publishing      USD  2017-09-27  13000   \n",
       "4       Sculpture           Art      CAD  2016-02-24   5000   \n",
       "\n",
       "              launched pledged       state backers country usd pledged  \\\n",
       "0  2011-08-17 06:31:31    1145    canceled      24      US        1145   \n",
       "1  2012-07-23 20:46:48    1851      failed      28      US        1851   \n",
       "2  2016-07-01 21:55:54    7534  successful     254      US        3796   \n",
       "3  2017-08-28 15:47:02   16298  successful     367      US        2670   \n",
       "4  2016-01-25 17:37:10       1      failed       1      CA    0.708148   \n",
       "\n",
       "   usd_pledged_real  \n",
       "0       1145.000000  \n",
       "1       1851.000000  \n",
       "2       7534.000000  \n",
       "3      16298.000000  \n",
       "4          0.738225  "
      ]
     },
     "execution_count": 4,
     "metadata": {},
     "output_type": "execute_result"
    }
   ],
   "source": [
    "df_ks = pd.read_csv(\"./data/ks-projects-201801-sample.csv\")\n",
    "df_ks.head()"
   ]
  },
  {
   "cell_type": "markdown",
   "metadata": {},
   "source": [
    "Ce warning intervient lorsque pandas n'arrive pas à inférer le type de données. Il est sympa il précise les colones 6,8,10,12. "
   ]
  },
  {
   "cell_type": "code",
   "execution_count": 5,
   "metadata": {},
   "outputs": [
    {
     "data": {
      "text/plain": [
       "Index(['goal', 'pledged', 'backers', 'usd pledged'], dtype='object')"
      ]
     },
     "execution_count": 5,
     "metadata": {},
     "output_type": "execute_result"
    }
   ],
   "source": [
    "df_ks.columns[[6,8,10,12]]"
   ]
  },
  {
   "cell_type": "markdown",
   "metadata": {},
   "source": [
    "## Question 0"
   ]
  },
  {
   "cell_type": "markdown",
   "metadata": {},
   "source": [
    "### Netoyer les données"
   ]
  },
  {
   "cell_type": "code",
   "execution_count": 6,
   "metadata": {},
   "outputs": [],
   "source": [
    "df_ks['launched'] = pd.to_datetime(df_ks['launched'], errors='coerce')\n",
    "df_ks = df_ks.dropna(subset=['launched'])\n",
    "df_ks.rename(columns={'ID':'_id'}, inplace=True)\n",
    "l_d =df_ks.to_dict(orient='records')"
   ]
  },
  {
   "cell_type": "markdown",
   "metadata": {
    "slideshow": {
     "slide_type": "slide"
    }
   },
   "source": [
    "### Importer les données"
   ]
  },
  {
   "cell_type": "code",
   "execution_count": 7,
   "metadata": {},
   "outputs": [],
   "source": [
    "from pymongo import MongoClient\n",
    "client = MongoClient(\"mongo:27017\")"
   ]
  },
  {
   "cell_type": "code",
   "execution_count": 8,
   "metadata": {},
   "outputs": [],
   "source": [
    "db_ks = client.ks\n",
    "collection_ks = db_ks['abdoudb']"
   ]
  },
  {
   "cell_type": "code",
   "execution_count": 9,
   "metadata": {},
   "outputs": [
    {
     "ename": "BulkWriteError",
     "evalue": "batch op errors occurred",
     "output_type": "error",
     "traceback": [
      "\u001b[0;31m---------------------------------------------------------------------------\u001b[0m",
      "\u001b[0;31mBulkWriteError\u001b[0m                            Traceback (most recent call last)",
      "\u001b[0;32m<ipython-input-9-6e2908b51f8b>\u001b[0m in \u001b[0;36m<module>\u001b[0;34m\u001b[0m\n\u001b[0;32m----> 1\u001b[0;31m \u001b[0mcollection_ks\u001b[0m\u001b[0;34m.\u001b[0m\u001b[0minsert_many\u001b[0m\u001b[0;34m(\u001b[0m\u001b[0ml_d\u001b[0m\u001b[0;34m)\u001b[0m\u001b[0;34m\u001b[0m\u001b[0;34m\u001b[0m\u001b[0m\n\u001b[0m",
      "\u001b[0;32m~/.local/share/virtualenvs/code-AFz48Hjb/lib/python3.6/site-packages/pymongo/collection.py\u001b[0m in \u001b[0;36minsert_many\u001b[0;34m(self, documents, ordered, bypass_document_validation)\u001b[0m\n\u001b[1;32m    722\u001b[0m         \u001b[0mblk\u001b[0m \u001b[0;34m=\u001b[0m \u001b[0m_Bulk\u001b[0m\u001b[0;34m(\u001b[0m\u001b[0mself\u001b[0m\u001b[0;34m,\u001b[0m \u001b[0mordered\u001b[0m\u001b[0;34m,\u001b[0m \u001b[0mbypass_document_validation\u001b[0m\u001b[0;34m)\u001b[0m\u001b[0;34m\u001b[0m\u001b[0;34m\u001b[0m\u001b[0m\n\u001b[1;32m    723\u001b[0m         \u001b[0mblk\u001b[0m\u001b[0;34m.\u001b[0m\u001b[0mops\u001b[0m \u001b[0;34m=\u001b[0m \u001b[0;34m[\u001b[0m\u001b[0mdoc\u001b[0m \u001b[0;32mfor\u001b[0m \u001b[0mdoc\u001b[0m \u001b[0;32min\u001b[0m \u001b[0mgen\u001b[0m\u001b[0;34m(\u001b[0m\u001b[0;34m)\u001b[0m\u001b[0;34m]\u001b[0m\u001b[0;34m\u001b[0m\u001b[0;34m\u001b[0m\u001b[0m\n\u001b[0;32m--> 724\u001b[0;31m         \u001b[0mblk\u001b[0m\u001b[0;34m.\u001b[0m\u001b[0mexecute\u001b[0m\u001b[0;34m(\u001b[0m\u001b[0mself\u001b[0m\u001b[0;34m.\u001b[0m\u001b[0mwrite_concern\u001b[0m\u001b[0;34m.\u001b[0m\u001b[0mdocument\u001b[0m\u001b[0;34m)\u001b[0m\u001b[0;34m\u001b[0m\u001b[0;34m\u001b[0m\u001b[0m\n\u001b[0m\u001b[1;32m    725\u001b[0m         \u001b[0;32mreturn\u001b[0m \u001b[0mInsertManyResult\u001b[0m\u001b[0;34m(\u001b[0m\u001b[0minserted_ids\u001b[0m\u001b[0;34m,\u001b[0m \u001b[0mself\u001b[0m\u001b[0;34m.\u001b[0m\u001b[0mwrite_concern\u001b[0m\u001b[0;34m.\u001b[0m\u001b[0macknowledged\u001b[0m\u001b[0;34m)\u001b[0m\u001b[0;34m\u001b[0m\u001b[0;34m\u001b[0m\u001b[0m\n\u001b[1;32m    726\u001b[0m \u001b[0;34m\u001b[0m\u001b[0m\n",
      "\u001b[0;32m~/.local/share/virtualenvs/code-AFz48Hjb/lib/python3.6/site-packages/pymongo/bulk.py\u001b[0m in \u001b[0;36mexecute\u001b[0;34m(self, write_concern)\u001b[0m\n\u001b[1;32m    491\u001b[0m                 \u001b[0mself\u001b[0m\u001b[0;34m.\u001b[0m\u001b[0mexecute_no_results\u001b[0m\u001b[0;34m(\u001b[0m\u001b[0msock_info\u001b[0m\u001b[0;34m,\u001b[0m \u001b[0mgenerator\u001b[0m\u001b[0;34m)\u001b[0m\u001b[0;34m\u001b[0m\u001b[0;34m\u001b[0m\u001b[0m\n\u001b[1;32m    492\u001b[0m             \u001b[0;32melif\u001b[0m \u001b[0msock_info\u001b[0m\u001b[0;34m.\u001b[0m\u001b[0mmax_wire_version\u001b[0m \u001b[0;34m>\u001b[0m \u001b[0;36m1\u001b[0m\u001b[0;34m:\u001b[0m\u001b[0;34m\u001b[0m\u001b[0;34m\u001b[0m\u001b[0m\n\u001b[0;32m--> 493\u001b[0;31m                 \u001b[0;32mreturn\u001b[0m \u001b[0mself\u001b[0m\u001b[0;34m.\u001b[0m\u001b[0mexecute_command\u001b[0m\u001b[0;34m(\u001b[0m\u001b[0msock_info\u001b[0m\u001b[0;34m,\u001b[0m \u001b[0mgenerator\u001b[0m\u001b[0;34m,\u001b[0m \u001b[0mwrite_concern\u001b[0m\u001b[0;34m)\u001b[0m\u001b[0;34m\u001b[0m\u001b[0;34m\u001b[0m\u001b[0m\n\u001b[0m\u001b[1;32m    494\u001b[0m             \u001b[0;32melse\u001b[0m\u001b[0;34m:\u001b[0m\u001b[0;34m\u001b[0m\u001b[0;34m\u001b[0m\u001b[0m\n\u001b[1;32m    495\u001b[0m                 \u001b[0;32mreturn\u001b[0m \u001b[0mself\u001b[0m\u001b[0;34m.\u001b[0m\u001b[0mexecute_legacy\u001b[0m\u001b[0;34m(\u001b[0m\u001b[0msock_info\u001b[0m\u001b[0;34m,\u001b[0m \u001b[0mgenerator\u001b[0m\u001b[0;34m,\u001b[0m \u001b[0mwrite_concern\u001b[0m\u001b[0;34m)\u001b[0m\u001b[0;34m\u001b[0m\u001b[0;34m\u001b[0m\u001b[0m\n",
      "\u001b[0;32m~/.local/share/virtualenvs/code-AFz48Hjb/lib/python3.6/site-packages/pymongo/bulk.py\u001b[0m in \u001b[0;36mexecute_command\u001b[0;34m(self, sock_info, generator, write_concern)\u001b[0m\n\u001b[1;32m    329\u001b[0m                 full_result['writeErrors'].sort(\n\u001b[1;32m    330\u001b[0m                     key=lambda error: error['index'])\n\u001b[0;32m--> 331\u001b[0;31m             \u001b[0;32mraise\u001b[0m \u001b[0mBulkWriteError\u001b[0m\u001b[0;34m(\u001b[0m\u001b[0mfull_result\u001b[0m\u001b[0;34m)\u001b[0m\u001b[0;34m\u001b[0m\u001b[0;34m\u001b[0m\u001b[0m\n\u001b[0m\u001b[1;32m    332\u001b[0m         \u001b[0;32mreturn\u001b[0m \u001b[0mfull_result\u001b[0m\u001b[0;34m\u001b[0m\u001b[0;34m\u001b[0m\u001b[0m\n\u001b[1;32m    333\u001b[0m \u001b[0;34m\u001b[0m\u001b[0m\n",
      "\u001b[0;31mBulkWriteError\u001b[0m: batch op errors occurred"
     ]
    }
   ],
   "source": [
    "collection_ks.insert_many(l_d)"
   ]
  },
  {
   "cell_type": "code",
   "execution_count": null,
   "metadata": {},
   "outputs": [],
   "source": [
    "collection_ks.find_one()"
   ]
  },
  {
   "cell_type": "markdown",
   "metadata": {},
   "source": [
    "## Question 1  "
   ]
  },
  {
   "cell_type": "code",
   "execution_count": null,
   "metadata": {},
   "outputs": [],
   "source": [
    "req = collection_ks.find().limit(5).sort([(\"usd_pledged_real\", -1)])\n",
    "for test in req:\n",
    "    print(test)"
   ]
  },
  {
   "cell_type": "markdown",
   "metadata": {},
   "source": [
    "## Question 2"
   ]
  },
  {
   "cell_type": "code",
   "execution_count": null,
   "metadata": {},
   "outputs": [],
   "source": [
    "req = collection_ks.find({\"$expr\":{\"$gte\":[\"$pledged\", \"$goal\"]}})\n",
    "req.count()"
   ]
  },
  {
   "cell_type": "markdown",
   "metadata": {},
   "source": [
    "## Question 3"
   ]
  },
  {
   "cell_type": "code",
   "execution_count": 11,
   "metadata": {},
   "outputs": [
    {
     "data": {
      "text/plain": [
       "[{'_id': 'Playing Cards', 'projets': 963},\n",
       " {'_id': 'Experimental', 'projets': 357},\n",
       " {'_id': 'Faith', 'projets': 439},\n",
       " {'_id': 'Pop', 'projets': 1302},\n",
       " {'_id': 'Art Books', 'projets': 1065},\n",
       " {'_id': 'Anthologies', 'projets': 300},\n",
       " {'_id': 'Jazz', 'projets': 733},\n",
       " {'_id': 'Music Videos', 'projets': 299},\n",
       " {'_id': 'Science Fiction', 'projets': 274},\n",
       " {'_id': 'Small Batch', 'projets': 701},\n",
       " {'_id': 'Webcomics', 'projets': 259},\n",
       " {'_id': 'Software', 'projets': 1194},\n",
       " {'_id': 'Printing', 'projets': 83},\n",
       " {'_id': 'Glass', 'projets': 51},\n",
       " {'_id': 'Romance', 'projets': 74},\n",
       " {'_id': 'Taxidermy', 'projets': 7},\n",
       " {'_id': 'Music', 'projets': 6229},\n",
       " {'_id': 'Painting', 'projets': 1288},\n",
       " {'_id': 'Spaces', 'projets': 331},\n",
       " {'_id': 'Drama', 'projets': 871},\n",
       " {'_id': 'Electronic Music', 'projets': 858},\n",
       " {'_id': 'Musical', 'projets': 367},\n",
       " {'_id': 'Ready-to-wear', 'projets': 332},\n",
       " {'_id': 'Apparel', 'projets': 2827},\n",
       " {'_id': 'Film & Video', 'projets': 4003},\n",
       " {'_id': 'DIY Electronics', 'projets': 358},\n",
       " {'_id': 'Digital Art', 'projets': 524},\n",
       " {'_id': 'Apps', 'projets': 2535},\n",
       " {'_id': 'Web', 'projets': 2017},\n",
       " {'_id': 'People', 'projets': 440},\n",
       " {'_id': 'Blues', 'projets': 113},\n",
       " {'_id': 'Farms', 'projets': 482},\n",
       " {'_id': 'Gadgets', 'projets': 1210},\n",
       " {'_id': 'Plays', 'projets': 539},\n",
       " {'_id': 'Hip-Hop', 'projets': 1555},\n",
       " {'_id': 'Webseries', 'projets': 2316},\n",
       " {'_id': 'Places', 'projets': 283},\n",
       " {'_id': 'Workshops', 'projets': 59},\n",
       " {'_id': 'Pet Fashion', 'projets': 51},\n",
       " {'_id': 'Couture', 'projets': 108},\n",
       " {'_id': 'Cookbooks', 'projets': 217},\n",
       " {'_id': 'Crafts', 'projets': 1834},\n",
       " {'_id': 'Illustration', 'projets': 1263},\n",
       " {'_id': 'Bacon', 'projets': 78},\n",
       " {'_id': 'Design', 'projets': 1641},\n",
       " {'_id': 'Photo', 'projets': 58},\n",
       " {'_id': 'Candles', 'projets': 168},\n",
       " {'_id': 'World Music', 'projets': 850},\n",
       " {'_id': 'Installations', 'projets': 178},\n",
       " {'_id': 'Horror', 'projets': 525},\n",
       " {'_id': 'Space Exploration', 'projets': 137},\n",
       " {'_id': 'Publishing', 'projets': 2332},\n",
       " {'_id': 'Makerspaces', 'projets': 91},\n",
       " {'_id': 'Flight', 'projets': 158},\n",
       " {'_id': 'Art', 'projets': 3358},\n",
       " {'_id': 'Zines', 'projets': 144},\n",
       " {'_id': 'Metal', 'projets': 274},\n",
       " {'_id': 'Typography', 'projets': 44},\n",
       " {'_id': 'Classical Music', 'projets': 1064},\n",
       " {'_id': 'Sculpture', 'projets': 737},\n",
       " {'_id': 'Theater', 'projets': 2786},\n",
       " {'_id': 'Journalism', 'projets': 672},\n",
       " {'_id': 'DIY', 'projets': 480},\n",
       " {'_id': 'Childrenswear', 'projets': 192},\n",
       " {'_id': 'Rock', 'projets': 2707},\n",
       " {'_id': 'Camera Equipment', 'projets': 165},\n",
       " {'_id': 'Puzzles', 'projets': 95},\n",
       " {'_id': 'Movie Theaters', 'projets': 90},\n",
       " {'_id': 'Fine Art', 'projets': 291},\n",
       " {'_id': 'Video Art', 'projets': 65},\n",
       " {'_id': 'Accessories', 'projets': 1204},\n",
       " {'_id': 'Stationery', 'projets': 90},\n",
       " {'_id': 'Family', 'projets': 130},\n",
       " {'_id': 'Knitting', 'projets': 78},\n",
       " {'_id': 'Young Adult', 'projets': 328},\n",
       " {'_id': 'Live Games', 'projets': 394},\n",
       " {'_id': 'Nonfiction', 'projets': 3390},\n",
       " {'_id': 'Photography', 'projets': 2239},\n",
       " {'_id': 'Restaurants', 'projets': 1089},\n",
       " {'_id': 'Residencies', 'projets': 32},\n",
       " {'_id': 'Pottery', 'projets': 40},\n",
       " {'_id': 'Hardware', 'projets': 1431},\n",
       " {'_id': 'Product Design', 'projets': 8886},\n",
       " {'_id': 'Chiptune', 'projets': 10},\n",
       " {'_id': 'Fashion', 'projets': 3379},\n",
       " {'_id': \"Children's Books\", 'projets': 2686},\n",
       " {'_id': 'Games', 'projets': 1331},\n",
       " {'_id': 'Woodworking', 'projets': 433},\n",
       " {'_id': 'Mobile Games', 'projets': 650},\n",
       " {'_id': 'Country & Folk', 'projets': 1790},\n",
       " {'_id': 'Fantasy', 'projets': 132},\n",
       " {'_id': 'Television', 'projets': 401},\n",
       " {'_id': 'Drinks', 'projets': 995},\n",
       " {'_id': 'Comic Books', 'projets': 1032},\n",
       " {'_id': 'Ceramics', 'projets': 128},\n",
       " {'_id': 'Nature', 'projets': 219},\n",
       " {'_id': 'Civic Design', 'projets': 130},\n",
       " {'_id': 'Graphic Novels', 'projets': 702},\n",
       " {'_id': 'Immersive', 'projets': 131},\n",
       " {'_id': 'Print', 'projets': 288},\n",
       " {'_id': 'Dance', 'projets': 901},\n",
       " {'_id': 'Comedy', 'projets': 923},\n",
       " {'_id': 'Quilts', 'projets': 32},\n",
       " {'_id': 'Animation', 'projets': 1017},\n",
       " {'_id': 'Vegan', 'projets': 229},\n",
       " {'_id': 'Food', 'projets': 4612},\n",
       " {'_id': 'Fiction', 'projets': 3703},\n",
       " {'_id': 'Performance Art', 'projets': 855},\n",
       " {'_id': 'Video Games', 'projets': 4799},\n",
       " {'_id': 'Calendars', 'projets': 112},\n",
       " {'_id': 'Wearables', 'projets': 508},\n",
       " {'_id': 'Comics', 'projets': 1931},\n",
       " {'_id': 'Technology', 'projets': 2690},\n",
       " {'_id': 'Translations', 'projets': 76},\n",
       " {'_id': 'Thrillers', 'projets': 302},\n",
       " {'_id': 'Periodicals', 'projets': 517},\n",
       " {'_id': \"Farmer's Markets\", 'projets': 175},\n",
       " {'_id': 'Academic', 'projets': 367},\n",
       " {'_id': 'Festivals', 'projets': 313},\n",
       " {'_id': 'Fabrication Tools', 'projets': 96},\n",
       " {'_id': 'Action', 'projets': 282},\n",
       " {'_id': 'Letterpress', 'projets': 24},\n",
       " {'_id': 'Documentary', 'projets': 6498},\n",
       " {'_id': 'Kids', 'projets': 109},\n",
       " {'_id': 'Sound', 'projets': 255},\n",
       " {'_id': 'Interactive Design', 'projets': 146},\n",
       " {'_id': 'Robots', 'projets': 237},\n",
       " {'_id': 'Performances', 'projets': 414},\n",
       " {'_id': 'Indie Rock', 'projets': 2192},\n",
       " {'_id': 'Video', 'projets': 147},\n",
       " {'_id': 'Photobooks', 'projets': 608},\n",
       " {'_id': 'Textiles', 'projets': 105},\n",
       " {'_id': 'Shorts', 'projets': 4857},\n",
       " {'_id': 'Events', 'projets': 322},\n",
       " {'_id': 'Radio & Podcasts', 'projets': 349},\n",
       " {'_id': 'Latin', 'projets': 63},\n",
       " {'_id': 'Graphic Design', 'projets': 765},\n",
       " {'_id': 'Gaming Hardware', 'projets': 178},\n",
       " {'_id': 'Poetry', 'projets': 532},\n",
       " {'_id': 'Public Art', 'projets': 1248},\n",
       " {'_id': 'Mixed Media', 'projets': 1118},\n",
       " {'_id': 'Animals', 'projets': 97},\n",
       " {'_id': 'Literary Journals', 'projets': 118},\n",
       " {'_id': 'Weaving', 'projets': 38},\n",
       " {'_id': 'Architecture', 'projets': 300},\n",
       " {'_id': 'Punk', 'projets': 127},\n",
       " {'_id': 'Community Gardens', 'projets': 115},\n",
       " {'_id': 'Crochet', 'projets': 61},\n",
       " {'_id': 'Literary Spaces', 'projets': 10},\n",
       " {'_id': 'R&B', 'projets': 172},\n",
       " {'_id': 'Tabletop Games', 'projets': 5581},\n",
       " {'_id': 'Embroidery', 'projets': 49},\n",
       " {'_id': 'Footwear', 'projets': 379},\n",
       " {'_id': '3D Printing', 'projets': 271},\n",
       " {'_id': 'Audio', 'projets': 164},\n",
       " {'_id': 'Jewelry', 'projets': 472},\n",
       " {'_id': 'Conceptual Art', 'projets': 393},\n",
       " {'_id': 'Food Trucks', 'projets': 687},\n",
       " {'_id': 'Narrative Film', 'projets': 2099}]"
      ]
     },
     "execution_count": 11,
     "metadata": {},
     "output_type": "execute_result"
    }
   ],
   "source": [
    "req = collection_ks.aggregate([{\"$group\": {\"_id\" : \"$category\", \"projets\" : {\"$sum\" : 1}}}])\n",
    "list(req)"
   ]
  },
  {
   "cell_type": "markdown",
   "metadata": {},
   "source": [
    "## Question 4"
   ]
  },
  {
   "cell_type": "code",
   "execution_count": null,
   "metadata": {},
   "outputs": [],
   "source": [
    "date = datetime.datetime.strptime(\"2016-01-01\",'%Y-%m-%d')\n",
    "req = collection_ks.find({\"$and\":[{'country':'FR'}, {'launched':{'$lt':date}}]})\n",
    "req.count()"
   ]
  },
  {
   "cell_type": "markdown",
   "metadata": {},
   "source": [
    "## Question 5"
   ]
  },
  {
   "cell_type": "code",
   "execution_count": 10,
   "metadata": {
    "scrolled": true
   },
   "outputs": [
    {
     "data": {
      "text/plain": [
       "{'_id': 217543389,\n",
       " 'name': 'The uKeg Pressurized Growler for Fresh Beer',\n",
       " 'category': 'Drinks',\n",
       " 'main_category': 'Food',\n",
       " 'currency': 'USD',\n",
       " 'deadline': '2014-12-08',\n",
       " 'goal': 75000.0,\n",
       " 'launched': datetime.datetime(2014, 10, 15, 6, 34, 48),\n",
       " 'pledged': 1559525.68,\n",
       " 'state': 'successful',\n",
       " 'backers': 10293,\n",
       " 'country': 'US',\n",
       " 'usd pledged': 1559525.68,\n",
       " 'usd_pledged_real': 1559525.68}"
      ]
     },
     "execution_count": 10,
     "metadata": {},
     "output_type": "execute_result"
    }
   ],
   "source": [
    "req = collection_ks.find({\"$and\":[{'country':'US'}, {'usd_pledged_real':{'$gte':200000}}]})\n",
    "next(req)"
   ]
  },
  {
   "cell_type": "raw",
   "metadata": {},
   "source": []
  },
  {
   "cell_type": "markdown",
   "metadata": {},
   "source": [
    "## Question 6 "
   ]
  },
  {
   "cell_type": "code",
   "execution_count": null,
   "metadata": {},
   "outputs": [],
   "source": [
    "collection_ks.create_index([(\"name\", \"text\")])\n",
    "req = collection_ks.find({\"$text\": {\"$search\": \"sport\"}})\n",
    "list(req)"
   ]
  }
 ],
 "metadata": {
  "kernelspec": {
   "display_name": "Python 3",
   "language": "python",
   "name": "python3"
  },
  "language_info": {
   "codemirror_mode": {
    "name": "ipython",
    "version": 3
   },
   "file_extension": ".py",
   "mimetype": "text/x-python",
   "name": "python",
   "nbconvert_exporter": "python",
   "pygments_lexer": "ipython3",
   "version": "3.6.12"
  }
 },
 "nbformat": 4,
 "nbformat_minor": 2
}
